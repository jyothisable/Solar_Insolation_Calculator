{
 "cells": [
  {
   "cell_type": "code",
   "execution_count": 20,
   "metadata": {},
   "outputs": [],
   "source": [
    "import pandas as pd\n",
    "import glob\n",
    "import os\n",
    "import natsort"
   ]
  },
  {
   "cell_type": "code",
   "execution_count": 21,
   "metadata": {},
   "outputs": [],
   "source": [
    "for forlderName in ['cloud','validation','turb']:\n",
    "    first= True\n",
    "    for csv in natsort.natsorted(glob.glob(forlderName+\"_csv/*.csv\")):\n",
    "        fileName = os.path.basename(csv).split('_')\n",
    "        day = fileName[-2][1:]\n",
    "        time = fileName[-1][1:5]\n",
    "        df = pd.read_csv(csv,usecols=['1','fid'],index_col=\"fid\")\n",
    "        if forlderName == 'validation':\n",
    "            df['1']= (df['1']**(1/2))*100\n",
    "        df = df.transpose()\n",
    "        df.insert(0, 'Day', day)\n",
    "        df.insert(1, 'Time', time)\n",
    "        if first:\n",
    "            df.to_csv(forlderName+'_combined.csv', sep=',',index=False)\n",
    "            first = False\n",
    "            continue\n",
    "        df.to_csv(forlderName+'_combined.csv', sep=',', mode='a',header=False,index=False)\n",
    "    ndf = pd.read_csv(forlderName+'_combined.csv')\n",
    "    ndf.insert(0, 'obs', range(1, 1 + len(ndf)))\n",
    "    ndf.to_csv(forlderName+'_combined.csv', sep=',',index=False)"
   ]
  }
 ],
 "metadata": {
  "interpreter": {
   "hash": "f8b4d2205990910871db2946254559b1ac8c726321bf93d33f7f61ee405edefa"
  },
  "kernelspec": {
   "display_name": "Python 3.9.7 64-bit ('gis': conda)",
   "language": "python",
   "name": "python3"
  },
  "language_info": {
   "codemirror_mode": {
    "name": "ipython",
    "version": 3
   },
   "file_extension": ".py",
   "mimetype": "text/x-python",
   "name": "python",
   "nbconvert_exporter": "python",
   "pygments_lexer": "ipython3",
   "version": "3.9.7"
  },
  "orig_nbformat": 4
 },
 "nbformat": 4,
 "nbformat_minor": 2
}
