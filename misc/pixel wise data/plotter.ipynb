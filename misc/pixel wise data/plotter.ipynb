{
 "cells": [
  {
   "cell_type": "code",
   "execution_count": 1,
   "metadata": {},
   "outputs": [],
   "source": [
    "import pandas as pd\n",
    "import numpy as np\n",
    "import matplotlib\n",
    "import matplotlib.pyplot as plt\n",
    "import matplotlib.ticker as plticker"
   ]
  },
  {
   "cell_type": "code",
   "execution_count": 2,
   "metadata": {},
   "outputs": [],
   "source": [
    "forlderNames = ['cloud','validation','turb']\n",
    "cloud_df =pd.read_csv(forlderNames[0]+'_combined.csv')\n",
    "validation_df = pd.read_csv(forlderNames[1]+'_combined.csv')\n",
    "turb_df = pd.read_csv(forlderNames[2]+'_combined.csv')"
   ]
  },
  {
   "cell_type": "code",
   "execution_count": 15,
   "metadata": {},
   "outputs": [],
   "source": [
    "matplotlib.rcParams['figure.figsize'] = [27, 20]\n",
    "n = 248\n",
    "cloudy_days = set()\n",
    "avg_RMPSE = 0\n",
    "for i in range(1,n):\n",
    "    Val_noCl = []\n",
    "    fig, ax = plt.subplots(3)\n",
    "    loc = plticker.MultipleLocator(base=10)\n",
    "    xmin, xmax =0, 482\n",
    "    \n",
    "    Val_noCl = [validation_df[str(i)][j]**2 for j in range(0,482) if cloud_df[str(i)][j] == 1]\n",
    "    # convert above list comprehension to actual for loop\n",
    "    for j in range(0,482):\n",
    "        if cloud_df[str(i)][j] == 1:\n",
    "            Val_noCl.append(validation_df[str(i)][j]**2)\n",
    "        else:\n",
    "            cloudy_days.add(validation_df['Day'][j])\n",
    "    avg_RMPSE +=np.mean(Val_noCl)** .5\n",
    "    ax[0].plot( validation_df['obs'], validation_df[str(i)], label = 'Error')\n",
    "    # ax[0].plot( validation_df['obs'],[validation_df[str(i)].mean()]*len(validation_df), label='Mean', linestyle='--')\n",
    "    ax[0].plot( validation_df['obs'],[(validation_df[str(i)] ** 2).mean() ** .5]*len(validation_df), label='RMPSE', linestyle='--')\n",
    "    ax[0].plot( validation_df['obs'],[np.mean(Val_noCl)** .5]*len(validation_df), label='RMPSE (no cloud)', linestyle='--')\n",
    "    ax[0].legend(loc=\"upper right\")\n",
    "    ax[0].set_title('Error',fontsize=20)\n",
    "    ax[0].set_xlabel('Obsverations')\n",
    "    ax[0].set_ylabel('Percentage (0-100)')\n",
    "    ax[0].xaxis.set_major_locator(loc)\n",
    "    ax[0].yaxis.set_major_locator(plticker.MultipleLocator(base=5))\n",
    "    ax[0].set_xlim([xmin, xmax])\n",
    "\n",
    "    ax[1].plot( cloud_df['obs'], cloud_df[str(i)])\n",
    "    ax[1].set_title('Cloud',fontsize=20)\n",
    "    ax[1].set_xlabel('Obsverations')\n",
    "    ax[1].set_ylabel('Cloud coefficient (0-1)')\n",
    "    ax[1].xaxis.set_major_locator(loc)\n",
    "    ax[1].set_xlim([xmin, xmax])\n",
    "\n",
    "    ax[2].plot( turb_df['obs'], turb_df[str(i)])\n",
    "    ax[2].set_title(\"Turbidity\",fontsize=20)\n",
    "    ax[2].set_xlabel('Obsverations')\n",
    "    ax[2].set_ylabel('Turbidity Coefficient')\n",
    "    ax[2].xaxis.set_major_locator(loc)\n",
    "    ax[2].yaxis.set_major_locator(plticker.MultipleLocator(base=0.5))\n",
    "    ax[2].set_xlim([xmin, xmax])\n",
    "\n",
    "    plt.suptitle('fid - '+ str(i),fontsize=30)\n",
    "    plt.savefig('cellWise_comparison/fid_'+str(i)+'.png',edgecolor='white',facecolor='white')\n",
    "    plt.close(fig)"
   ]
  },
  {
   "cell_type": "code",
   "execution_count": 4,
   "metadata": {},
   "outputs": [
    {
     "name": "stdout",
     "output_type": "stream",
     "text": [
      "{3, 7, 13, 19, 25, 27, 34, 44, 46, 49, 50, 52, 54, 55, 56, 59, 65, 70, 71, 73, 75, 76, 79}\n"
     ]
    }
   ],
   "source": [
    "print(cloudy_days)"
   ]
  },
  {
   "cell_type": "code",
   "execution_count": 5,
   "metadata": {},
   "outputs": [
    {
     "data": {
      "text/plain": [
       "23"
      ]
     },
     "execution_count": 5,
     "metadata": {},
     "output_type": "execute_result"
    }
   ],
   "source": [
    "len(cloudy_days)"
   ]
  },
  {
   "cell_type": "code",
   "execution_count": 6,
   "metadata": {},
   "outputs": [
    {
     "data": {
      "text/plain": [
       "5.544801792036916"
      ]
     },
     "execution_count": 6,
     "metadata": {},
     "output_type": "execute_result"
    }
   ],
   "source": [
    "avg_RMPSE = avg_RMPSE/(n-1)\n",
    "avg_RMPSE"
   ]
  },
  {
   "cell_type": "code",
   "execution_count": null,
   "metadata": {},
   "outputs": [],
   "source": []
  }
 ],
 "metadata": {
  "interpreter": {
   "hash": "f8b4d2205990910871db2946254559b1ac8c726321bf93d33f7f61ee405edefa"
  },
  "kernelspec": {
   "display_name": "Python 3.9.7 64-bit ('gis': conda)",
   "language": "python",
   "name": "python3"
  },
  "language_info": {
   "codemirror_mode": {
    "name": "ipython",
    "version": 3
   },
   "file_extension": ".py",
   "mimetype": "text/x-python",
   "name": "python",
   "nbconvert_exporter": "python",
   "pygments_lexer": "ipython3",
   "version": "3.9.7"
  },
  "orig_nbformat": 4
 },
 "nbformat": 4,
 "nbformat_minor": 2
}
